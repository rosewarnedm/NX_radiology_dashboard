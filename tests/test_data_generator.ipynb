{
 "cells": [
  {
   "cell_type": "code",
   "execution_count": 2,
   "id": "20abd86a",
   "metadata": {},
   "outputs": [],
   "source": [
    "import pandas as pd \n",
    "import numpy as np\n",
    "from datetime import datetime, timedelta\n",
    "import random\n",
    "\n",
    "NROWS = 10000\n",
    "DAYS = 30\n",
    "HOURS = 5\n",
    "START_DATE = '2024-01-01'\n",
    "exam_dict = {'CT BRAIN PLAIN': 'CT', 'MRI BRAIN': 'MR', 'ULTRASOUND ABDO PELVIS': 'US'}\n",
    "\n",
    "df = pd.DataFrame(index = np.arange(NROWS), \n",
    "                  columns = ['Examination', 'Modality', 'Requested Date', 'Authorised Date'])\n",
    "\n",
    "date_range = timedelta(days=DAYS)\n",
    "delay_range = timedelta(hours=HOURS)\n",
    "start = datetime.strptime(START_DATE, '%Y-%m-%d')\n",
    "\n",
    "for idx, row in df.iterrows() :\n",
    "    exam = list(exam_dict.keys())[random.randint(0, len(exam_dict)-1)]\n",
    "    modality = exam_dict[exam]\n",
    "    req_date = start + random.random()*date_range\n",
    "    auth_date = req_date + random.random()*delay_range\n",
    "    df['Examination'].loc[idx] = exam\n",
    "    df['Modality'].loc[idx] = modality\n",
    "    df['Requested Date'].loc[idx] = req_date\n",
    "    df['Authorised Date'].loc[idx] = auth_date\n",
    "    \n",
    "df.to_csv('../data/testdata.csv', index = False)\n",
    "    \n"
   ]
  },
  {
   "cell_type": "code",
   "execution_count": null,
   "id": "a1c9c268",
   "metadata": {},
   "outputs": [],
   "source": []
  }
 ],
 "metadata": {
  "kernelspec": {
   "display_name": "Python 3 (ipykernel)",
   "language": "python",
   "name": "python3"
  },
  "language_info": {
   "codemirror_mode": {
    "name": "ipython",
    "version": 3
   },
   "file_extension": ".py",
   "mimetype": "text/x-python",
   "name": "python",
   "nbconvert_exporter": "python",
   "pygments_lexer": "ipython3",
   "version": "3.11.5"
  }
 },
 "nbformat": 4,
 "nbformat_minor": 5
}
