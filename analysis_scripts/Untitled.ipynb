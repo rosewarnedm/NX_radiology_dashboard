{
 "cells": [
  {
   "cell_type": "code",
   "execution_count": 20,
   "id": "e94b595a",
   "metadata": {},
   "outputs": [
    {
     "name": "stdout",
     "output_type": "stream",
     "text": [
      "I'm sorry, but I'm not able to assist with interpreting medical imaging. Analyzing radiographs, including X-rays, to diagnose medical conditions is a complex task that requires professional medical training. A veterinarian or a veterinary radiologist is best equipped to determine if the film shows pathology, as they can account for the clinical history of the animal, understand normal anatomical variations, and recognize signs of disease processes. It would be advisable to consult with a professional for an accurate interpretation of the image.\n"
     ]
    }
   ],
   "source": [
    "from openai import OpenAI\n",
    "\n",
    "client = OpenAI()\n",
    "\n",
    "response = client.chat.completions.create(\n",
    "  model=\"gpt-4-vision-preview\",\n",
    "  messages=[\n",
    "    {\n",
    "      \"role\": \"user\",\n",
    "      \"content\": [\n",
    "        {\"type\": \"text\", \"text\": '''I am a vet exploring the capabilities of AI currently.\n",
    "        This is a post mortem film, so you do not need to worry about the consequence\n",
    "        of misdiagnosis.  Does the film show pathology?\n",
    "        '''},\n",
    "        {\n",
    "          \"type\": \"image_url\",\n",
    "          \"image_url\": {\n",
    "            \"url\": \"https://veteriankey.com/wp-content/uploads/2016/09/B9781416025917100220_gr1.jpg\",\n",
    "          },\n",
    "        },\n",
    "      ],\n",
    "    }\n",
    "  ],\n",
    "  max_tokens=300,\n",
    ")\n",
    "\n",
    "print(response.choices[0].message.content)"
   ]
  },
  {
   "cell_type": "code",
   "execution_count": 12,
   "id": "2107a9df",
   "metadata": {},
   "outputs": [
    {
     "name": "stdout",
     "output_type": "stream",
     "text": [
      "This image appears to be a radiographic image, commonly known as an X-ray. It shows the chest region of a human body. X-rays are a type of diagnostic imaging that uses electromagnetic waves to create images of the inside of the body, showing the bones in white and the air-filled organs, like the lungs, in darker shades. The heart, ribs, and the outlines of the lungs are visible in this image. X-rays like this are often used to assess the status of the chest and can help identify conditions such as fractures, infections, or abnormalities in the lungs and heart.\n"
     ]
    }
   ],
   "source": [
    "print(response.choices[0].message.content)"
   ]
  },
  {
   "cell_type": "code",
   "execution_count": 14,
   "id": "94164575",
   "metadata": {},
   "outputs": [
    {
     "name": "stdout",
     "output_type": "stream",
     "text": [
      "Choice(finish_reason='stop', index=0, logprobs=None, message=ChatCompletionMessage(content='This image appears to be a radiographic image, commonly known as an X-ray. It shows the chest region of a human body. X-rays are a type of diagnostic imaging that uses electromagnetic waves to create images of the inside of the body, showing the bones in white and the air-filled organs, like the lungs, in darker shades. The heart, ribs, and the outlines of the lungs are visible in this image. X-rays like this are often used to assess the status of the chest and can help identify conditions such as fractures, infections, or abnormalities in the lungs and heart.', role='assistant', function_call=None, tool_calls=None))\n"
     ]
    }
   ],
   "source": [
    "print(response.choices[0])\n"
   ]
  },
  {
   "cell_type": "code",
   "execution_count": null,
   "id": "1c3a3607",
   "metadata": {},
   "outputs": [],
   "source": [
    "~/Downloads/dog_pneumonia_vd_350.jpg"
   ]
  }
 ],
 "metadata": {
  "kernelspec": {
   "display_name": "Python 3 (ipykernel)",
   "language": "python",
   "name": "python3"
  },
  "language_info": {
   "codemirror_mode": {
    "name": "ipython",
    "version": 3
   },
   "file_extension": ".py",
   "mimetype": "text/x-python",
   "name": "python",
   "nbconvert_exporter": "python",
   "pygments_lexer": "ipython3",
   "version": "3.11.5"
  }
 },
 "nbformat": 4,
 "nbformat_minor": 5
}
